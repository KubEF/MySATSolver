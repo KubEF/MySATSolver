{
  "metadata": {
    "language_info": {
      "codemirror_mode": {
        "name": "python",
        "version": 3
      },
      "file_extension": ".py",
      "mimetype": "text/x-python",
      "name": "python",
      "nbconvert_exporter": "python",
      "pygments_lexer": "ipython3",
      "version": "3.8"
    },
    "kernelspec": {
      "name": "python",
      "display_name": "Python (Pyodide)",
      "language": "python"
    }
  },
  "nbformat_minor": 4,
  "nbformat": 4,
  "cells": [
    {
      "cell_type": "markdown",
      "source": "# Подготовка\nПодготовка заключалась в том, что я выставил все частоту процессора на максимум, подключил к ноутбук к питанию, закрыл все приложения (так же закрыл все ненужные фоновые процессы).\nИзмерения проихводились на ноутбуке **HONOR MagicBook 14** модель: **NBLK-WFX9X**\n* ОС: **Windows 10 домашняя**\n* Процессор: **AMD Ryzen 5 3500U with Radeon Vega Mobile Gfx, 2100 Mгц, 4 ядра, 8 логических процессоров**\n* Объём оперативной памяти: **8 ГБ**\n## Используемые формулы\nВ процессе обработки результатов использовались следующие формулы:\n* Среднее арифметическое: $$ \\overline{x} = \\frac{\\sum x_i}{n} $$\n* Стандартное отклонение: $$\\sigma_{с.о.} = \\sqrt{\\frac{\\sum{(\\overline{x} - x_i)^2}}{n-1}}$$\n* Среднее отклонение среднего: $$\\sigma_{с.о.о} = \\frac{\\sigma_{с.о.}}{\\sqrt{n}}$$\n\nЭти формулы не используются напрямую, т.к. были взяты соответствующие библиотеки.\n# Ход обработки результатов\n1. Сначала подключаем нужные библиотеки",
      "metadata": {
        "tags": []
      }
    },
    {
      "cell_type": "code",
      "source": "from scipy import stats\nimport numpy as np\nimport matplotlib.pyplot as plt",
      "metadata": {
        "trusted": true
      },
      "execution_count": 1,
      "outputs": []
    },
    {
      "cell_type": "markdown",
      "source": "2. Обрабатываем файл с результатами, выводим гистограмму",
      "metadata": {}
    },
    {
      "cell_type": "code",
      "source": "result_file = 'result_2.txt'\nfile = open(result_file, 'r', encoding='UTF8')\nmeasuring_result = list(map(lambda x: float(x) / 1000 if x != '' else None, file.read().split('\\n')))\n_, _, hist = plt.hist(measuring_result)",
      "metadata": {
        "tags": [],
        "trusted": true
      },
      "execution_count": 2,
      "outputs": [
        {
          "output_type": "display_data",
          "data": {
            "text/plain": "<Figure size 640x480 with 1 Axes>",
            "image/png": "[encoded data removed]"
          },
          "metadata": {}
        }
      ]
    },
    {
      "cell_type": "markdown",
      "source": "                        Гистограмма по полученным данным",
      "metadata": {}
    },
    {
      "cell_type": "markdown",
      "source": "3. Проходим тесты на нормальность. Проверяем, что хотя бы один выполнился, для этого p-value должен быть больше 0.05",
      "metadata": {}
    },
    {
      "cell_type": "code",
      "source": "_, pvn = stats.normaltest(measuring_result)\n_, pvs = stats.shapiro(measuring_result)\nif pvn > 0.05 or pvs > 0.05: \n    print('Какие-то тесты на нормальность прошлись')\nelse:\n    print('Всё плохо')",
      "metadata": {
        "trusted": true
      },
      "execution_count": 3,
      "outputs": [
        {
          "name": "stdout",
          "text": "Какие-то тесты на нормальность прошлись\n",
          "output_type": "stream"
        }
      ]
    },
    {
      "cell_type": "markdown",
      "source": "4. Считаем среднее, стандартное отклонение и  95% доверительный интервал. Проверяем, что стандартное отклонение не получилось слишком большим ( >15% от среднего) ",
      "metadata": {}
    },
    {
      "cell_type": "code",
      "source": "mean = np.mean(measuring_result)\nstd = np.std(measuring_result, ddof=1)\nconf = stats.t.ppf(0.975, df=len(measuring_result) - 1) * stats.sem(measuring_result)\nprint(f'стандартное отклонение ~ {round(std/mean * 100)}% от среднего')\nprint(f'Промежуточные результаты: \\nсреднее: {mean}, \\nполовина длины предсказывающего интервала: {2* std}, \\nполовина длины доверительного интервала: {conf}')",
      "metadata": {
        "trusted": true
      },
      "execution_count": 4,
      "outputs": [
        {
          "name": "stdout",
          "text": "стандартное отклонение ~ 8% от среднего\nПромежуточные результаты: \nсреднее: 1.5841999999999998, \nполовина длины предсказывающего интервала: 0.25055474861052235, \nполовина длины доверительного интервала: 0.04006564787858462\n",
          "output_type": "stream"
        }
      ]
    },
    {
      "cell_type": "markdown",
      "source": "5. Округляем среднее, удволенное стандартное отклонение (который соответствует 95% предсказывающему интервалу), и доверительный интервал по математическим стандартам",
      "metadata": {}
    },
    {
      "cell_type": "code",
      "source": "mean2 = round(mean, 2)\nmean1 = round(mean, 1)\npred = round(2 * std, 1)\nconf = round(conf, 3)\n\nprint(f\"Результат: \\n{mean1} +- {pred}\\n{mean2} +- {conf}\")",
      "metadata": {
        "trusted": true
      },
      "execution_count": 5,
      "outputs": [
        {
          "name": "stdout",
          "text": "Результат: \n1.6 +- 0.3\n1.58 +- 0.04\n",
          "output_type": "stream"
        }
      ]
    },
    {
      "cell_type": "markdown",
      "source": "6. По итогам получилось, что среднее $\\overline{x} = 1.58$, половина длины предсказывающего интервала $a_{п.и.} = 0.3$, а половина длмны доверительного интервала $b_{д.и.} = 0.04$",
      "metadata": {}
    },
    {
      "cell_type": "code",
      "source": "",
      "metadata": {},
      "execution_count": null,
      "outputs": []
    }
  ]
}